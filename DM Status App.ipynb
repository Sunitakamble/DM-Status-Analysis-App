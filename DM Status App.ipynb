{
 "cells": [
  {
   "cell_type": "code",
   "execution_count": 5,
   "id": "7fa6f3c8-8da8-4081-8b37-9c16191bedb3",
   "metadata": {},
   "outputs": [],
   "source": [
    " import gradio as gr"
   ]
  },
  {
   "cell_type": "code",
   "execution_count": 7,
   "id": "2badf886-4010-49cc-9fbd-79cbfb70cd7a",
   "metadata": {},
   "outputs": [
    {
     "name": "stdout",
     "output_type": "stream",
     "text": [
      "Running on local URL:  http://127.0.0.1:7860\n",
      "\n",
      "To create a public link, set `share=True` in `launch()`.\n"
     ]
    },
    {
     "data": {
      "text/html": [
       "<div><iframe src=\"http://127.0.0.1:7860/\" width=\"100%\" height=\"500\" allow=\"autoplay; camera; microphone; clipboard-read; clipboard-write;\" frameborder=\"0\" allowfullscreen></iframe></div>"
      ],
      "text/plain": [
       "<IPython.core.display.HTML object>"
      ]
     },
     "metadata": {},
     "output_type": "display_data"
    },
    {
     "data": {
      "text/plain": []
     },
     "execution_count": 7,
     "metadata": {},
     "output_type": "execute_result"
    }
   ],
   "source": [
    "# creating a function bp that has systole and \n",
    "# diastole as parameters \n",
    "def DM(Fasting,PPG): \n",
    "\t\n",
    "# interpreting the systole and diastole values \n",
    "  if((Fasting<100) and (PPG<140)): \n",
    "      return (\"Normal Sugar\") \n",
    "\n",
    "  elif ((Fasting>101 and Fasting<125) and (PPG>140 and PPG<200)): \n",
    "      return (\"Impraired Glucose\") \n",
    "\n",
    "  elif ((Fasting>126 and Fasting<200) and (PPG>200 and PPG<400)): \n",
    "      return (\"First Stage diabetes mellitus\") \n",
    "\n",
    "  elif (Fasting>=200 and PPG<400):\n",
    "      return (\"Second Stage diabetes mellitus\") \n",
    "\n",
    "\n",
    "# creating an interface \n",
    "interface=gr.Interface(fn=DM,inputs=[\"number\",\"number\"], \n",
    "outputs=['text'],title=\"ANALYSIS OF Diabetes mellitus\") \n",
    "\n",
    "# launching the interface \n",
    "interface.launch()"
   ]
  },
  {
   "cell_type": "code",
   "execution_count": null,
   "id": "d4826f1c-f1eb-4f89-b09e-898a28d64b83",
   "metadata": {},
   "outputs": [],
   "source": []
  }
 ],
 "metadata": {
  "kernelspec": {
   "display_name": "Python 3 (ipykernel)",
   "language": "python",
   "name": "python3"
  },
  "language_info": {
   "codemirror_mode": {
    "name": "ipython",
    "version": 3
   },
   "file_extension": ".py",
   "mimetype": "text/x-python",
   "name": "python",
   "nbconvert_exporter": "python",
   "pygments_lexer": "ipython3",
   "version": "3.11.7"
  }
 },
 "nbformat": 4,
 "nbformat_minor": 5
}
