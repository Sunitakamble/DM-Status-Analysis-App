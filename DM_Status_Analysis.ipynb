{
 "cells": [
  {
   "cell_type": "code",
   "execution_count": 39,
   "id": "86a13896-a414-41c0-b161-129dfc1c754e",
   "metadata": {},
   "outputs": [
    {
     "name": "stdout",
     "output_type": "stream",
     "text": [
      "Running on local URL:  http://127.0.0.1:7860\n",
      "\n",
      "To create a public link, set `share=True` in `launch()`.\n"
     ]
    },
    {
     "data": {
      "text/html": [
       "<div><iframe src=\"http://127.0.0.1:7860/\" width=\"100%\" height=\"500\" allow=\"autoplay; camera; microphone; clipboard-read; clipboard-write;\" frameborder=\"0\" allowfullscreen></iframe></div>"
      ],
      "text/plain": [
       "<IPython.core.display.HTML object>"
      ]
     },
     "metadata": {},
     "output_type": "display_data"
    },
    {
     "data": {
      "text/plain": []
     },
     "execution_count": 39,
     "metadata": {},
     "output_type": "execute_result"
    }
   ],
   "source": [
    "import gradio as gr\n",
    "def DM(Fasting, PPG):\n",
    "    if Fasting < 100 and PPG < 140:\n",
    "        return \"Normal Sugar\"\n",
    "    elif 101 <= Fasting <= 125 and 140 <= PPG <= 200:\n",
    "        return \"Impaired Glucose\"\n",
    "    elif 126 <= Fasting <= 200 and 200 <= PPG <= 400:\n",
    "        return \"First Stage diabetes mellitus\"\n",
    "    elif Fasting >= 200 and PPG < 400:\n",
    "        return \"Second Stage diabetes mellitus\"\n",
    "    else:\n",
    "        return \"Undefined measure\"\n",
    "\n",
    "interface = gr.Interface(fn=DM,inputs=[\"number\", \"number\"],  \n",
    "    outputs='text', title=\"ANALYSIS OF Diabetes mellitus\")\n",
    "\n",
    "interface.launch()"
   ]
  },
  {
   "cell_type": "code",
   "execution_count": null,
   "id": "0ad1b672-71ae-42cc-b170-7a86bfd9b1ed",
   "metadata": {},
   "outputs": [],
   "source": []
  }
 ],
 "metadata": {
  "kernelspec": {
   "display_name": "Python 3 (ipykernel)",
   "language": "python",
   "name": "python3"
  },
  "language_info": {
   "codemirror_mode": {
    "name": "ipython",
    "version": 3
   },
   "file_extension": ".py",
   "mimetype": "text/x-python",
   "name": "python",
   "nbconvert_exporter": "python",
   "pygments_lexer": "ipython3",
   "version": "3.11.7"
  }
 },
 "nbformat": 4,
 "nbformat_minor": 5
}
